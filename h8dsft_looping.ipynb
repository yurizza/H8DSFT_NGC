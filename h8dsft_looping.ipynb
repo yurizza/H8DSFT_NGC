{
 "cells": [
  {
   "attachments": {},
   "cell_type": "markdown",
   "metadata": {},
   "source": [
    "Print even numbers from list using for\n",
    "stop print when value in list is 918"
   ]
  },
  {
   "cell_type": "code",
   "execution_count": 50,
   "metadata": {},
   "outputs": [
    {
     "name": "stdout",
     "output_type": "stream",
     "text": [
      "402\n",
      "984\n",
      "360\n",
      "408\n",
      "980\n",
      "544\n",
      "390\n",
      "984\n",
      "592\n",
      "236\n",
      "942\n",
      "386\n",
      "462\n",
      "418\n",
      "344\n",
      "236\n",
      "566\n",
      "978\n",
      "328\n",
      "162\n",
      "758\n",
      "918\n",
      "Done\n"
     ]
    }
   ],
   "source": [
    "numbers=[951,402,984,651,360,69,408,319,\n",
    "         601,485,980,507,725,547,544,615,\n",
    "         83,165,141,501,263,617,865,575,219,\n",
    "         390,984,592,236,105,942,941,386,462,\n",
    "         47,418,907,344,236,375,823,566,597,978,\n",
    "         328,615,953,345,399,162,758,219,918,237,\n",
    "         412,566,826,248,866,950,626,949]\n",
    "\n",
    "for i in numbers:\n",
    "    if i==918:\n",
    "        print(i)\n",
    "        break\n",
    "    elif i%2==0:\n",
    "        print(i)\n",
    "print(\"Done\")"
   ]
  },
  {
   "attachments": {},
   "cell_type": "markdown",
   "metadata": {},
   "source": [
    "Print even numbers from list using while\n",
    "stop print when value in list is 918"
   ]
  },
  {
   "cell_type": "code",
   "execution_count": 1,
   "metadata": {},
   "outputs": [
    {
     "name": "stdout",
     "output_type": "stream",
     "text": [
      "402\n",
      "984\n",
      "360\n",
      "408\n",
      "980\n",
      "544\n",
      "390\n",
      "984\n",
      "592\n",
      "236\n",
      "942\n",
      "386\n",
      "462\n",
      "418\n",
      "344\n",
      "236\n",
      "566\n",
      "978\n",
      "328\n",
      "162\n",
      "758\n",
      "918\n",
      "Done\n"
     ]
    }
   ],
   "source": [
    "numbers=[951,402,984,651,360,69,408,319,\n",
    "         601,485,980,507,725,547,544,615,\n",
    "         83,165,141,501,263,617,865,575,219,\n",
    "         390,984,592,236,105,942,941,386,462,\n",
    "         47,418,907,344,236,375,823,566,597,978,\n",
    "         328,615,953,345,399,162,758,219,918,237,\n",
    "         412,566,826,248,866,950,626,949]\n",
    "i=0\n",
    "while len(numbers):\n",
    "    if numbers[i]==918:\n",
    "        print(numbers[i])\n",
    "        break\n",
    "    elif numbers[i]%2==0:\n",
    "        print(numbers[i])\n",
    "    i+=1\n",
    "print(\"Done\")"
   ]
  }
 ],
 "metadata": {
  "kernelspec": {
   "display_name": "base",
   "language": "python",
   "name": "python3"
  },
  "language_info": {
   "codemirror_mode": {
    "name": "ipython",
    "version": 3
   },
   "file_extension": ".py",
   "mimetype": "text/x-python",
   "name": "python",
   "nbconvert_exporter": "python",
   "pygments_lexer": "ipython3",
   "version": "3.9.16"
  },
  "orig_nbformat": 4
 },
 "nbformat": 4,
 "nbformat_minor": 2
}
