{
 "cells": [
  {
   "attachments": {},
   "cell_type": "markdown",
   "metadata": {},
   "source": [
    "# Function"
   ]
  },
  {
   "cell_type": "code",
   "execution_count": 1,
   "metadata": {},
   "outputs": [],
   "source": [
    "def convertCelciusAndKelvin(suhu, nilai):\n",
    "    '''convert temperature kelvin to celcius and celcius to kelvin\n",
    "    |parameter suhu for initialitation temperature (celcius or kelvin)\n",
    "    |parameter nilai is value of temperature '''\n",
    "    toCelcius = nilai -  273.15 # convert temperature to celcius\n",
    "    toKelvin = nilai  + 273.15 # convert temperature to kelvin\n",
    "    # output temperature celcius to kelvin\n",
    "    if suhu == 'celcius': \n",
    "        print(f'{nilai} derajat celcius sama dengan {toKelvin} derajat kelvin')\n",
    "\n",
    "    # output temperature kelvin to celcius\n",
    "    if suhu == 'kelvin':\n",
    "        print(f'{nilai} derajat kelvin sama dengan {toCelcius} derajat celcius')"
   ]
  },
  {
   "cell_type": "code",
   "execution_count": 2,
   "metadata": {},
   "outputs": [],
   "source": [
    "def convertToFahrenheit(suhu, nilai):\n",
    "    '''convert suhu celcius/kelvin to fahrenheit\n",
    "    |parameter suhu for initialitation temperature (celcius or kelvin)\n",
    "    |parameter nilai is value of temperature'''\n",
    "    celciusToFahrenheit = 9 / 5 * nilai + 32 # convert temperature celcius to fahrenheit\n",
    "    kelvinToFahrenheit = 9 / 5 * (nilai-273.15) + 32 # convert temperature kelvin to fahrenheit\n",
    "    # output temperature celcius to fahrenheit\n",
    "    if suhu == 'celcius':\n",
    "        print(f'{nilai} derajat celcius sama dengan {celciusToFahrenheit} derajat fahrenheit')\n",
    "    # output temperature kelvin to fahrenheit\n",
    "    if suhu == 'kelvin':\n",
    "        print(f'{nilai} derajat kelvin sama dengan {kelvinToFahrenheit} derajat fahrenheit')"
   ]
  },
  {
   "cell_type": "code",
   "execution_count": 5,
   "metadata": {},
   "outputs": [
    {
     "name": "stdout",
     "output_type": "stream",
     "text": [
      "98.0 derajat celcius sama dengan 371.15 derajat kelvin\n",
      "98.0 derajat celcius sama dengan 208.4 derajat fahrenheit\n"
     ]
    }
   ],
   "source": [
    "suhu = input('celcius atau kelvin ?')\n",
    "nilai = float(input(f'{suhu} berapa derajat ?'))\n",
    "suhu = suhu.lower()\n",
    "convertCelciusAndKelvin(suhu,nilai)\n",
    "convertToFahrenheit(suhu,nilai)"
   ]
  }
 ],
 "metadata": {
  "kernelspec": {
   "display_name": "base",
   "language": "python",
   "name": "python3"
  },
  "language_info": {
   "codemirror_mode": {
    "name": "ipython",
    "version": 3
   },
   "file_extension": ".py",
   "mimetype": "text/x-python",
   "name": "python",
   "nbconvert_exporter": "python",
   "pygments_lexer": "ipython3",
   "version": "3.9.16"
  },
  "orig_nbformat": 4
 },
 "nbformat": 4,
 "nbformat_minor": 2
}
